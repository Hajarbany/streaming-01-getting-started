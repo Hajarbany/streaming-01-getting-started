{
 "cells": [
  {
   "cell_type": "code",
   "execution_count": 1,
   "id": "726846da-4fad-4010-a71f-79e02805aa1e",
   "metadata": {},
   "outputs": [
    {
     "name": "stderr",
     "output_type": "stream",
     "text": [
      "2023-08-27 19:35:37,342 - INFO - ===============================================\n",
      "2023-08-27 19:35:37,344 - INFO - Starting batch process C.\n",
      "2023-08-27 19:35:37,344 - INFO - Processing complete! Check for new file.\n",
      "2023-08-27 19:35:37,345 - INFO - ===============================================\n"
     ]
    }
   ],
   "source": [
    "import csv\n",
    "import logging\n",
    "\n",
    "logging.basicConfig(\n",
    "    level=logging.INFO, format=\"%(asctime)s - %(levelname)s - %(message)s\"\n",
    ")\n",
    "\n",
    "# Declare program constants\n",
    "\n",
    "INPUT_FILE_NAME = \"batchfile_2_kelvin.csv\"\n",
    "OUTPUT_FILE_NAME = \"batchfile_3_farenheit.csv\"\n",
    "\n",
    "# Define program functions (bits of reusable code)\n",
    "# Use docstrings - and indentation matters!\n",
    "\n",
    "\n",
    "def convert_k_to_f(temp_k):\n",
    "    return\n",
    "\n",
    "\n",
    "def process_rows(input_file_name, output_file_name):\n",
    "    return\n",
    "\n",
    "\n",
    "if __name__ == \"__main__\":\n",
    "    try:\n",
    "        logging.info(\"===============================================\")\n",
    "        logging.info(\"Starting batch process C.\")\n",
    "        process_rows(INPUT_FILE_NAME, OUTPUT_FILE_NAME)\n",
    "        logging.info(\"Processing complete! Check for new file.\")\n",
    "        logging.info(\"===============================================\")\n",
    "    except Exception as e:\n",
    "        logging.error(f\"An error occurred: {e}\")"
   ]
  },
  {
   "cell_type": "code",
   "execution_count": null,
   "id": "2f02bf8a-a303-4a37-901d-82904c766de4",
   "metadata": {},
   "outputs": [],
   "source": []
  }
 ],
 "metadata": {
  "kernelspec": {
   "display_name": "Python 3",
   "language": "python",
   "name": "python3"
  },
  "language_info": {
   "codemirror_mode": {
    "name": "ipython",
    "version": 3
   },
   "file_extension": ".py",
   "mimetype": "text/x-python",
   "name": "python",
   "nbconvert_exporter": "python",
   "pygments_lexer": "ipython3",
   "version": "3.11.2"
  }
 },
 "nbformat": 4,
 "nbformat_minor": 5
}
