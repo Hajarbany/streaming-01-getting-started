{
 "cells": [
  {
   "cell_type": "code",
   "execution_count": 5,
   "id": "f49465bd-74f0-4d4a-9338-e85a529d7c3a",
   "metadata": {},
   "outputs": [],
   "source": [
    "import csv\n",
    "import logging"
   ]
  },
  {
   "cell_type": "code",
   "execution_count": 6,
   "id": "d6b57dbd-8c40-4bf7-a0a4-e364fa761369",
   "metadata": {},
   "outputs": [],
   "source": [
    "logging.basicConfig(\n",
    "    level=logging.INFO, format=\"%(asctime)s - %(levelname)s - %(message)s\"\n",
    ")\n"
   ]
  },
  {
   "cell_type": "code",
   "execution_count": 1,
   "id": "cf21a37e-c35c-493e-97b5-d837675c5109",
   "metadata": {},
   "outputs": [],
   "source": [
    "INPUT_FILE_NAME = \"batchfile_0_farenheit.csv\"\n",
    "OUTPUT_FILE_NAME = \"batchfile_1_celcius.csv\""
   ]
  },
  {
   "cell_type": "code",
   "execution_count": 2,
   "id": "0ed18b51-58e4-40f8-88a7-76c3a53d87cd",
   "metadata": {},
   "outputs": [],
   "source": [
    "def convert_f_to_c(temp_f):\n",
    "    \"\"\"Convert Fahrenheit to Celsius.\n",
    "    Use the built-in round() function to round to 2 decimal places\n",
    "    Use the built-in float() function to convert the string to a float (a floating point number)\n",
    "    All CSV values are read as strings.\n",
    "    \"\"\"\n",
    "    logging.debug(f\"Calling convert_f_to_c() with {temp_f}.\")\n",
    "    celsius = round((float(temp_f) - 32.0) * 5.0 / 9.0, 2)\n",
    "    logging.debug(f\"Converted {temp_f}F to {celsius}C.\")\n",
    "    return celsius"
   ]
  },
  {
   "cell_type": "code",
   "execution_count": 7,
   "id": "d8b98b8b-f7be-4f01-a2e7-77de53985357",
   "metadata": {},
   "outputs": [
    {
     "name": "stderr",
     "output_type": "stream",
     "text": [
      "2023-08-27 19:35:07,141 - INFO - ===============================================\n",
      "2023-08-27 19:35:07,143 - INFO - Starting batch process A.\n",
      "2023-08-27 19:35:07,143 - INFO - Calling process_rows(): batchfile_0_farenheit.csv to batchfile_1_celcius.csv.\n",
      "2023-08-27 19:35:07,144 - INFO - Opened for reading: batchfile_0_farenheit.csv.\n",
      "2023-08-27 19:35:07,145 - INFO - Skipped header row: ['\\ufeffYear', 'Month', 'Day', 'Time', 'TempF']\n",
      "2023-08-27 19:35:07,147 - INFO - Opened for writing: batchfile_1_celcius.csv.\n",
      "2023-08-27 19:35:07,148 - ERROR - An error occurred: I/O operation on closed file.\n"
     ]
    }
   ],
   "source": [
    "def process_rows(input_file_name, output_file_name):\n",
    "    \"\"\"Read from input file, convert temperature, and write to output file.\"\"\"\n",
    "    logging.info(f\"Calling process_rows(): {input_file_name} to {output_file_name}.\")\n",
    "    with open(input_file_name, \"r\") as input_file:\n",
    "        logging.info(f\"Opened for reading: {input_file_name}.\")\n",
    "        reader = csv.reader(input_file, delimiter=\",\")\n",
    "        header = next(reader)  # Our file has a header row, move to next to get to data\n",
    "        logging.info(f\"Skipped header row: {header}\")\n",
    "    with open(output_file_name, \"w\", newline=\"\") as output_file:\n",
    "        logging.info(f\"Opened for writing: {output_file_name}.\")\n",
    "        writer = csv.writer(output_file, delimiter=\",\")\n",
    "        writer.writerow([\"Year\", \"Month\", \"Day\", \"Time\", \"TempC\"])\n",
    "        for row in reader:\n",
    "                # Extract the values from the input row into named variables\n",
    "                Year, Month, Day, Time, TempF = row\n",
    "                TempC = convert_f_to_c(TempF)\n",
    "                writer.writerow([Year, Month, Day, Time, TempC])\n",
    "                \n",
    "if __name__ == \"__main__\":\n",
    "    try:\n",
    "        logging.info(\"===============================================\")\n",
    "        logging.info(\"Starting batch process A.\")\n",
    "        process_rows(INPUT_FILE_NAME, OUTPUT_FILE_NAME)\n",
    "        logging.info(\"Processing complete! Check for new file.\")\n",
    "        logging.info(\"===============================================\")\n",
    "    except Exception as e:\n",
    "        logging.error(f\"An error occurred: {e}\")"
   ]
  },
  {
   "cell_type": "code",
   "execution_count": null,
   "id": "cc30809b-3530-4a10-9c8c-ce91129271e2",
   "metadata": {},
   "outputs": [],
   "source": []
  }
 ],
 "metadata": {
  "kernelspec": {
   "display_name": "Python 3",
   "language": "python",
   "name": "python3"
  },
  "language_info": {
   "codemirror_mode": {
    "name": "ipython",
    "version": 3
   },
   "file_extension": ".py",
   "mimetype": "text/x-python",
   "name": "python",
   "nbconvert_exporter": "python",
   "pygments_lexer": "ipython3",
   "version": "3.11.2"
  }
 },
 "nbformat": 4,
 "nbformat_minor": 5
}
